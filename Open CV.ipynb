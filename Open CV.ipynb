{
 "cells": [
  {
   "cell_type": "markdown",
   "id": "627444d9",
   "metadata": {},
   "source": [
    "## Facial Detection using Open Cv"
   ]
  },
  {
   "cell_type": "code",
   "execution_count": 4,
   "id": "d6a7e6db",
   "metadata": {},
   "outputs": [],
   "source": [
    "# Step 1 - Import opencv\n",
    "import cv2"
   ]
  },
  {
   "cell_type": "code",
   "execution_count": 5,
   "id": "9a73039d",
   "metadata": {},
   "outputs": [],
   "source": [
    "# step 2 - Load Haar-cascade\n",
    "face_cascade = cv2.CascadeClassifier(cv2.data.haarcascades + \"haarcascade_frontalface_default.xml\")"
   ]
  },
  {
   "cell_type": "code",
   "execution_count": 6,
   "id": "d2eab6db",
   "metadata": {},
   "outputs": [],
   "source": [
    "# Step 3 - Create a function that will detect peoples face\n",
    "def detect(gray, frame):\n",
    "    faces = face_cascade.detectMultiScale(gray, 1.3, 5)\n",
    "    for (x, y, w, h) in faces:\n",
    "        cv2.rectangle(frame, (x, y), (x+w, y+h), (255,0,0), 3)\n",
    "        roi_gray = gray[y:y+h, x:x+w]\n",
    "        roi_color = frame[y:y+h, x:x+w]\n",
    "    return frame"
   ]
  },
  {
   "cell_type": "code",
   "execution_count": null,
   "id": "4cf06c61",
   "metadata": {},
   "outputs": [],
   "source": [
    "# Step 4\n",
    "\n",
    "capture = cv2.VideoCapture(1) # 0 - Local Webcam, 1 - External Webcam\n",
    "\n",
    "while True:\n",
    "    _, frame = capture.read()\n",
    "    \n",
    "    #Step 6\n",
    "    gray = cv2.cvtColor(frame, cv2.COLOR_BGR2GRAY)\n",
    "    \n",
    "    canvas = detect(gray, frame)\n",
    "    \n",
    "    cv2.imshow(\"Video\", canvas)\n",
    "    if cv2.waitKey(1) & 0xFF == ord(\"q\"):\n",
    "        break\n",
    "\n",
    "capture.release()\n",
    "cv2.destroyAllWindows()"
   ]
  },
  {
   "cell_type": "code",
   "execution_count": null,
   "id": "1c244ab0",
   "metadata": {},
   "outputs": [],
   "source": []
  }
 ],
 "metadata": {
  "kernelspec": {
   "display_name": "Python 3 (ipykernel)",
   "language": "python",
   "name": "python3"
  },
  "language_info": {
   "codemirror_mode": {
    "name": "ipython",
    "version": 3
   },
   "file_extension": ".py",
   "mimetype": "text/x-python",
   "name": "python",
   "nbconvert_exporter": "python",
   "pygments_lexer": "ipython3",
   "version": "3.9.7"
  }
 },
 "nbformat": 4,
 "nbformat_minor": 5
}
